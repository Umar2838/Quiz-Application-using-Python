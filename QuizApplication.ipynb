{
 "cells": [
  {
   "cell_type": "code",
   "execution_count": 38,
   "id": "f277fc39-9a8c-44fe-8750-4d3903db83d4",
   "metadata": {},
   "outputs": [
    {
     "name": "stdout",
     "output_type": "stream",
     "text": [
      "Q: How do you insert comments in Python code?\n",
      "A) // This is a comment\n",
      "B) /* This is a comment */\n",
      "C) # This is a comment\n",
      "D) <!-- This is a comment -->\n"
     ]
    },
    {
     "name": "stdin",
     "output_type": "stream",
     "text": [
      "Enter your answer (A/B/C/D):  C\n"
     ]
    },
    {
     "name": "stdout",
     "output_type": "stream",
     "text": [
      "Correct! Comments in Python are indicated by the '#' symbol.\n",
      "\n",
      "Time taken for this question: 4.18 seconds\n",
      "\n",
      "Q: Which of the following is the correct way to create a function in Python?\n",
      "A) function myFunction()\n",
      "B) create myFunction()\n",
      "C) def myFunction():\n",
      "D) func myFunction()\n"
     ]
    },
    {
     "name": "stdin",
     "output_type": "stream",
     "text": [
      "Enter your answer (A/B/C/D):  C\n"
     ]
    },
    {
     "name": "stdout",
     "output_type": "stream",
     "text": [
      "Correct! In Python, functions are defined using the 'def' keyword.\n",
      "\n",
      "Time taken for this question: 5.58 seconds\n",
      "\n",
      "Q: What is the correct file extension for Python files?\n",
      "A) .pyth\n",
      "B) .pt\n",
      "C) .py\n",
      "D) .pyt\n"
     ]
    },
    {
     "name": "stdin",
     "output_type": "stream",
     "text": [
      "Enter your answer (A/B/C/D):  C\n"
     ]
    },
    {
     "name": "stdout",
     "output_type": "stream",
     "text": [
      "Correct! Python files use the '.py' extension.\n",
      "\n",
      "Time taken for this question: 6.27 seconds\n",
      "\n",
      "Q: Which of the following data types is immutable in Python?\n",
      "A) List\n",
      "B) Dictionary\n",
      "C) Set\n",
      "D) Tuple\n"
     ]
    },
    {
     "name": "stdin",
     "output_type": "stream",
     "text": [
      "Enter your answer (A/B/C/D):  D\n"
     ]
    },
    {
     "name": "stdout",
     "output_type": "stream",
     "text": [
      "Correct! Tuples are immutable in Python, meaning they cannot be changed after creation.\n",
      "\n",
      "Time taken for this question: 2.57 seconds\n",
      "\n",
      "Q: Which of the following is a valid way to declare a list in Python?\n",
      "A) my_list = (1, 2, 3)\n",
      "B) my_list = {1, 2, 3}\n",
      "C) my_list = [1, 2, 3]\n",
      "D) my_list = <1, 2, 3>\n"
     ]
    },
    {
     "name": "stdin",
     "output_type": "stream",
     "text": [
      "Enter your answer (A/B/C/D):  C\n"
     ]
    },
    {
     "name": "stdout",
     "output_type": "stream",
     "text": [
      "Correct! The correct way to declare a list in Python is using square brackets.\n",
      "\n",
      "Time taken for this question: 3.83 seconds\n",
      "\n",
      "Your final score is 5 out of 5\n"
     ]
    }
   ],
   "source": [
    "import random\n",
    "import time\n",
    "\n",
    "questions = [\n",
    "    {\n",
    "        \"question\": \"Q: Which of the following is a valid way to declare a list in Python?\",\n",
    "        \"answer\": [\"A) my_list = (1, 2, 3)\", \"B) my_list = {1, 2, 3}\", \"C) my_list = [1, 2, 3]\", \"D) my_list = <1, 2, 3>\"],\n",
    "        \"correct\": \"C\",\n",
    "        \"feedback\": \"The correct way to declare a list in Python is using square brackets.\"\n",
    "    },\n",
    "    {\n",
    "        \"question\": \"Q: Which of the following is the correct way to create a function in Python?\",\n",
    "        \"answer\": [\"A) function myFunction()\", \"B) create myFunction()\", \"C) def myFunction():\", \"D) func myFunction()\"],\n",
    "        \"correct\": \"C\",\n",
    "        \"feedback\": \"In Python, functions are defined using the 'def' keyword.\"\n",
    "    },\n",
    "    {\n",
    "        \"question\": \"Q: How do you insert comments in Python code?\",\n",
    "        \"answer\": [\"A) // This is a comment\", \"B) /* This is a comment */\", \"C) # This is a comment\", \"D) <!-- This is a comment -->\"],\n",
    "        \"correct\": \"C\",\n",
    "        \"feedback\": \"Comments in Python are indicated by the '#' symbol.\"\n",
    "    },\n",
    "    {\n",
    "        \"question\": \"Q: What is the correct file extension for Python files?\",\n",
    "        \"answer\": [\"A) .pyth\", \"B) .pt\", \"C) .py\", \"D) .pyt\"],\n",
    "        \"correct\": \"C\",\n",
    "        \"feedback\": \"Python files use the '.py' extension.\"\n",
    "    },\n",
    "    {\n",
    "        \"question\": \"Q: Which of the following data types is immutable in Python?\",\n",
    "        \"answer\": [\"A) List\", \"B) Dictionary\", \"C) Set\", \"D) Tuple\"],\n",
    "        \"correct\": \"D\",\n",
    "        \"feedback\": \"Tuples are immutable in Python, meaning they cannot be changed after creation.\"\n",
    "    }\n",
    "]\n",
    "\n",
    "def conductQuiz():\n",
    "    score = 0\n",
    "    random.shuffle(questions)  # Randomize questions\n",
    "    for q in questions:\n",
    "        print(q[\"question\"])\n",
    "        for option in q[\"answer\"]:\n",
    "            print(option)\n",
    "        \n",
    "        start_time = time.time()  # Start timing\n",
    "        answer = input(\"Enter your answer (A/B/C/D): \").strip().upper()\n",
    "        end_time = time.time()  # End timing\n",
    "\n",
    "        time_taken = end_time - start_time\n",
    "\n",
    "        if answer == q[\"correct\"]:\n",
    "            score += 1\n",
    "            print(f\"Correct! {q['feedback']}\\n\")\n",
    "        else:\n",
    "            print(f\"Wrong! The correct answer is {q['correct']}. {q['feedback']}\\n\")\n",
    "        \n",
    "        print(f\"Time taken for this question: {time_taken:.2f} seconds\\n\")\n",
    "\n",
    "    print(f\"Your final score is {score} out of {len(questions)}\")\n",
    "\n",
    "conductQuiz()\n"
   ]
  },
  {
   "cell_type": "code",
   "execution_count": null,
   "id": "7d212429-8619-4b3b-abc4-163caa7aa590",
   "metadata": {},
   "outputs": [],
   "source": []
  }
 ],
 "metadata": {
  "kernelspec": {
   "display_name": "Python 3 (ipykernel)",
   "language": "python",
   "name": "python3"
  },
  "language_info": {
   "codemirror_mode": {
    "name": "ipython",
    "version": 3
   },
   "file_extension": ".py",
   "mimetype": "text/x-python",
   "name": "python",
   "nbconvert_exporter": "python",
   "pygments_lexer": "ipython3",
   "version": "3.11.7"
  }
 },
 "nbformat": 4,
 "nbformat_minor": 5
}
